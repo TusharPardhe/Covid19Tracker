{
 "cells": [
  {
   "cell_type": "code",
   "execution_count": 13,
   "id": "07135c13",
   "metadata": {},
   "outputs": [],
   "source": [
    "import requests\n",
    "from bs4 import BeautifulSoup\n",
    "import re\n",
    "import json"
   ]
  },
  {
   "cell_type": "code",
   "execution_count": 14,
   "id": "e85a4735",
   "metadata": {},
   "outputs": [],
   "source": [
    "pageUrl =\"https://www.mohfw.gov.in/\"  \n",
    "statesDataUrl = \"https://www.mohfw.gov.in/data/datanew.json\" \n",
    "\n",
    "page = requests.get(pageUrl)\n",
    "statesData = requests.get(statesDataUrl).text\n",
    "\n",
    "soup = BeautifulSoup(page.content, \"html.parser\")\n",
    "website_header = soup.find(id=\"site-dashboard\")\n",
    "dataset = {}"
   ]
  },
  {
   "cell_type": "code",
   "execution_count": 15,
   "id": "824660bf",
   "metadata": {},
   "outputs": [],
   "source": [
    "def casesUpOrDown(data):\n",
    "    if(data):\n",
    "        if(data.find(class_=\"fa-arrow-down\")):\n",
    "            return \"down\";\n",
    "        if(data.find(class_=\"fa-arrow-up\")):\n",
    "            return \"up\"\n",
    "    return \"\""
   ]
  },
  {
   "cell_type": "code",
   "execution_count": 16,
   "id": "643658d6",
   "metadata": {},
   "outputs": [],
   "source": [
    "def getNumbers(data):\n",
    "    if(data):\n",
    "        data = data.replace(',','')\n",
    "        return re.findall(r'\\d+',data)\n",
    "    return 0"
   ]
  },
  {
   "cell_type": "code",
   "execution_count": 17,
   "id": "1c4b1a8f",
   "metadata": {},
   "outputs": [],
   "source": [
    "def getTotalCasesObject(data):    \n",
    "    # check whether li tag exists\n",
    "    if(data):\n",
    "        data = data.find_all(\"strong\",class_=\"mob-hide\")\n",
    "        if(data[1]):\n",
    "            data = data[1]\n",
    "\n",
    "    # check whether strong tag exists\n",
    "    if(data):\n",
    "        arr = getNumbers(data.text)\n",
    "        arr.append(casesUpOrDown(data))\n",
    "        return {\n",
    "            \"cases\":arr[0],\n",
    "            \"change\":arr[1],\n",
    "            \"direction\":arr[2]\n",
    "        }\n",
    "    \n",
    "    return \"\""
   ]
  },
  {
   "cell_type": "code",
   "execution_count": 18,
   "id": "3e66105f",
   "metadata": {
    "scrolled": true
   },
   "outputs": [],
   "source": [
    "total_active_cases = getTotalCasesObject(website_header.find(\"li\",class_=\"bg-blue\"))\n",
    "total_discharged =getTotalCasesObject(website_header.find(\"li\",class_=\"bg-green\")) \n",
    "total_death_cases =getTotalCasesObject(website_header.find(\"li\",class_=\"bg-red\")) \n",
    "\n",
    "dataset[\"activeCases\"] =total_active_cases\n",
    "dataset[\"dischargedCases\"] =total_discharged\n",
    "dataset[\"deathCases\"] =total_death_cases"
   ]
  },
  {
   "cell_type": "code",
   "execution_count": 19,
   "id": "da5eff52",
   "metadata": {},
   "outputs": [],
   "source": [
    "total_vaccinated = getNumbers(website_header.find(class_=\"coviddata\").text)[0]\n",
    "vacc_number = getNumbers(website_header.find(class_=\"coviddataval\").text)[0]\n",
    "up_or_down = casesUpOrDown(website_header.find(class_=\"coviddataval\"))\n",
    "\n",
    "dataset[\"vaccinationDetails\"] = {\"total\":total_vaccinated,\"change\":vacc_number,\"direction\":up_or_down}"
   ]
  },
  {
   "cell_type": "code",
   "execution_count": 20,
   "id": "00166468",
   "metadata": {},
   "outputs": [],
   "source": [
    "dataset[\"statesData\"] = json.loads(statesData)\n",
    "dataset[\"statesData\"][len(dataset[\"statesData\"]) - 1][\"state_name\"] = \"Total\""
   ]
  },
  {
   "cell_type": "code",
   "execution_count": 21,
   "id": "fa2c28e9",
   "metadata": {
    "scrolled": true
   },
   "outputs": [],
   "source": [
    "jsonData = json.dumps(dataset, sort_keys=False, indent=4)          "
   ]
  },
  {
   "cell_type": "code",
   "execution_count": 22,
   "id": "ea1ef3ca",
   "metadata": {},
   "outputs": [],
   "source": [
    "# write json data to file\n",
    "with open(\"../data/vaccineData.json\", \"w\") as outfile:\n",
    "    outfile.write(jsonData)"
   ]
  },
  {
   "cell_type": "code",
   "execution_count": null,
   "id": "4e33b4e7",
   "metadata": {},
   "outputs": [],
   "source": []
  }
 ],
 "metadata": {
  "kernelspec": {
   "display_name": "Python 3 (ipykernel)",
   "language": "python",
   "name": "python3"
  },
  "language_info": {
   "codemirror_mode": {
    "name": "ipython",
    "version": 3
   },
   "file_extension": ".py",
   "mimetype": "text/x-python",
   "name": "python",
   "nbconvert_exporter": "python",
   "pygments_lexer": "ipython3",
   "version": "3.10.0"
  }
 },
 "nbformat": 4,
 "nbformat_minor": 5
}
